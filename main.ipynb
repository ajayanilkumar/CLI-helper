{
 "cells": [
  {
   "cell_type": "code",
   "execution_count": 28,
   "metadata": {},
   "outputs": [],
   "source": [
    "from langchain.embeddings import HuggingFaceEmbeddings\n",
    "from langchain.vectorstores import FAISS\n",
    "from langchain.retrievers import BM25Retriever, EnsembleRetriever\n",
    "EMBEDDER = \"BAAI/bge-base-en-v1.5\"\n",
    "FAISS_PATH = \"vector_db/\"\n",
    "SEARCH_KWARGS = {'k' : 3}"
   ]
  },
  {
   "cell_type": "code",
   "execution_count": 12,
   "metadata": {},
   "outputs": [],
   "source": [
    "mac_dataset = [\n",
    "    (\"List all installed Homebrew packages\", \"brew list\"),\n",
    "    (\"Show detailed information about the macOS version\", \"sw_vers\"),\n",
    "    (\"Display information about disk space usage\", \"df -h\"),\n",
    "    (\"Show top processes by CPU usage\", \"top -o cpu\"),\n",
    "    (\"Check if port 443 on example.com is open using telnet\", \"echo | telnet example.com 443\"),\n",
    "    (\"Check open ports on a host using nc\", \"nc -zv example.com 443\"),\n",
    "    (\"List all installed applications\", \"ls /Applications\"),\n",
    "    (\"Display information about system hardware\", \"system_profiler\"),\n",
    "    (\"Show connected USB devices\", \"system_profiler SPUSBDataType\"),\n",
    "    (\"Check the macOS firewall status\", \"sudo /usr/libexec/ApplicationFirewall/socketfilterfw --getglobalstate\"),\n",
    "    (\"List all running processes\", \"ps aux\"),\n",
    "    (\"Show information about network interfaces\", \"ifconfig\"),\n",
    "    (\"Display detailed information about a file\", \"stat filename\"),\n",
    "    (\"List available Wi-Fi networks\", \"/System/Library/PrivateFrameworks/Apple80211.framework/Versions/A/Resources/airport -s\"),\n",
    "    (\"Check the status of macOS Gatekeeper\", \"spctl --status\"),\n",
    "    (\"List all user accounts\", \"dscl . -list /Users\"),\n",
    "    (\"Show the current date and time\", \"date\"),\n",
    "    (\"List all connected Bluetooth devices\", \"system_profiler SPBluetoothDataType\"),\n",
    "    (\"Check DNS resolution for a domain\", \"nslookup example.com\"),\n",
    "    (\"Display detailed information about a specific process\", \"ps -p <process_id> -o pid,ppid,command,%cpu,%mem\"),\n",
    "    (\"List all active network connections\", \"netstat -an\"),\n",
    "    (\"Display information about the macOS kernel\", \"uname -a\"),\n",
    "    (\"Check system uptime\", \"uptime\"),\n",
    "    (\"List all installed Python packages\", \"pip list\"),\n",
    "    (\"Check available updates for installed software\", \"softwareupdate -l\"),\n",
    "    (\"Show information about macOS disk partitions\", \"diskutil list\"),\n",
    "    (\"Display information about the macOS audio devices\", \"system_profiler SPAudioDataType\"),\n",
    "    (\"Check for available updates for macOS\", \"softwareupdate -l\"),\n",
    "    (\"List all available shells on the system\", \"cat /etc/shells\"),\n",
    "    (\"Show macOS system log\", \"log show\"),\n",
    "    (\"Check kernel extensions\", \"kextstat\"),\n",
    "    (\"Display information about the macOS file system\", \"diskutil info /\"),\n",
    "    (\"List all connected FireWire devices\", \"system_profiler SPSerialATADataType\"),\n",
    "    (\"Check for available updates for Ruby gems\", \"gem outdated\"),\n",
    "    (\"Display detailed information about the macOS memory\", \"vm_stat\"),\n",
    "    (\"List all installed Ruby gems\", \"gem list\"),\n",
    "    (\"Show information about macOS system preferences\", \"sudo system_profiler SPConfigurationProfileDataType\"),\n",
    "    (\"Check available disk space on a specific directory\", \"du -h /path/to/directory\"),\n",
    "    (\"List all user groups\", \"dscl . -list /Groups\"),\n",
    "    (\"Display macOS environment variables\", \"printenv\"),\n",
    "    (\"Check macOS system integrity with SIP status\", \"csrutil status\"),\n",
    "    (\"Show detailed information about system memory\", \"sysctl hw\"),\n",
    "    (\"List all user accounts with User ID\", \"dscl . -list /Users UniqueID\"),\n",
    "    (\"Display information about the macOS battery\", \"ioreg -rn AppleSmartBattery\"),\n",
    "    (\"Check disk usage for a specific directory\", \"du -h /path/to/directory\"),\n",
    "    (\"List all macOS system services\", \"launchctl list\"),\n",
    "    (\"Display macOS system-wide energy impact\", \"sudo powermetrics --samplers smc\"),\n",
    "    (\"List all connected Thunderbolt devices with detailed information\", \"system_profiler SPTechnologyDataType\"),\n",
    "    (\"Display information about macOS system fonts\", \"fc-list : family\"),\n",
    "    (\"Check macOS Bluetooth status\", \"system_profiler SPBluetoothDataType\"),\n",
    "    (\"Show detailed information about macOS system audio\", \"system_profiler SPAudioDataType\"),\n",
    "    (\"List all macOS user accounts with User ID\", \"dscl . -list /Users UniqueID\"),\n",
    "    (\"Check macOS system firewall settings\", \"sudo defaults read /Library/Preferences/com.apple.alf globalstate\"),\n",
    "    (\"Show information about macOS network interfaces using ifconfig\", \"ifconfig\"),\n",
    "    (\"List all installed macOS Quick Look plugins\", \"qlmanage -m plugins\"),\n",
    "    (\"Check macOS Time Machine backup status\", \"tmutil status\"),\n",
    "    (\"Display information about macOS system hardware sensors\", \"ioreg -n IODisplayConnect\"),\n",
    "    (\"List all available macOS screen resolutions\", \"system_profiler SPDisplaysDataType | grep Resolution\"),\n",
    "    (\"Check macOS AirPlay status\", \"system_profiler SPDisplaysDataType\"),\n",
    "    (\"Show information about macOS system input devices\", \"system_profiler SPUSBDataType\"),\n",
    "    (\"List all macOS user accounts with home directory paths\", \"dscl . -readall /Users NFSHomeDirectory\"),\n",
    "    (\"Display macOS kernel panic logs\", \"log show --predicate 'eventMessage contains \\\"kernel panic\\\"' --info\"),\n",
    "    (\"Check macOS system's NVRAM (Non-Volatile Random-Access Memory) settings\", \"nvram -p\"),\n",
    "    (\"Show detailed information about macOS system thermal conditions\", \"sudo powermetrics --samplers smc | grep -i temperature\"),\n",
    "    (\"List all available macOS input methods\", \"defaults read /Library/Preferences/com.apple.HIToolbox.plist AppleInputSourceHistory | grep Name\"),\n",
    "    (\"Check macOS FileVault encryption status for a specific disk\", \"fdesetup status -device /dev/diskX\"),\n",
    "    (\"Show macOS system-wide crash reports\", \"ls -lR /Library/Logs/DiagnosticReports/\"),\n",
    "    (\"List all available Ruby versions (if using rbenv)\", \"rbenv versions\"),\n",
    "    (\"Show information about macOS firewall settings\", \"sudo defaults read /Library/Preferences/com.apple.alf globalstate\"),\n",
    "    (\"List all installed Java Runtime Environments (JREs)\", \"/usr/libexec/java_home -V\"),\n",
    "    (\"Check macOS user environment variables\", \"launchctl getenv\"),\n",
    "    (\"Show information about macOS XPC services\", \"launchctl list | grep XPC\"),\n",
    "    (\"List all connected USB devices with detailed information\", \"system_profiler SPUSBDataType\"),\n",
    "    (\"Check macOS system resource usage in real-time\", \"top -o cpu\"),\n",
    "    (\"Display information about macOS system preferences profiles\", \"sudo profiles -P\"),\n",
    "    (\"Show detailed information about macOS I/O Kit registry\", \"ioreg -l\"),\n",
    "    (\"Check macOS FileVault encryption status\", \"fdesetup status\"),\n",
    "    (\"List all installed macOS Quick Look generators\", \"qlmanage -m generators\"),\n",
    "    (\"Display detailed information about macOS Bluetooth devices\", \"system_profiler SPBluetoothDataType\"),\n",
    "    (\"Check macOS AirDrop status\", \"defaults read /Library/Preferences/com.apple.sharing.advertise\"),\n",
    "    (\"Show information about macOS battery cycles\", \"ioreg -r -c 'AppleSmartBattery' | grep -i cycle\"),\n",
    "    (\"List all installed macOS kernel extensions\", \"kextstat -l\"),\n",
    "    (\"Check macOS disk arbitration status\", \"diskutil arbstatus\"),\n",
    "    (\"Show information about macOS SIP (System Integrity Protection)\", \"csrutil status\"),\n",
    "    (\"List all macOS system services\", \"systemsetup -listallservices\"),\n",
    "    (\"Display macOS system-wide energy usage\", \"sudo powermetrics --samplers smc\"),\n",
    "    (\"Check macOS system display sleep settings\", \"pmset -g | grep displaysleep\"),\n",
    "    (\"Show detailed information about macOS system sensors\", \"ioreg -n IODisplayConnect\"),\n",
    "    (\"Check macOS system-wide VPN settings\", \"networksetup -listallnetworkservices\"),\n",
    "    (\"Display macOS system thermal conditions\", \"sudo powermetrics --samplers smc | grep -i temperature\"),\n",
    "    (\"List all macOS system startup items\", \"sudo launchctl list\"),\n",
    "    (\"Show information about macOS system boot volume\", \"bless --info /\"),\n",
    "    (\"Check macOS system's Bluetooth PAN (Personal Area Network) status\", \"networksetup -getBluetoothPAN\"),\n",
    "    (\"Display macOS system-wide power settings\", \"sudo pmset -g\"),\n",
    "    (\"List all installed macOS kernel modules\", \"kextstat -l\"),\n",
    "    (\"Show information about macOS system user and group IDs\", \"dscl . -list /Users UniqueID\"),\n",
    "    (\"Check macOS system-wide firewall logging status\", \"sudo /usr/libexec/ApplicationFirewall/socketfilterfw --getloggingmode\"),\n",
    "    (\"Display macOS system-wide energy usage information\", \"sudo powermetrics --samplers smc\"),\n",
    "    (\"List all macOS system keyboard layouts\", \"defaults read /Library/Preferences/com.apple.HIToolbox.plist AppleEnabledInputSources\"),\n",
    "    (\"Show detailed information about macOS system memory statistics\", \"vm_stat\"),\n",
    "    (\"Check macOS system's iCloud status\", \"defaults read MobileMeAccounts\"),\n",
    "    (\"List all macOS system software RAID configurations\", \"diskutil appleraid list\"),\n",
    "    (\"Display macOS system-wide energy efficiency settings\", \"sudo pmset -g assertions\"),\n",
    "    (\"Check macOS system's System Integrity Protection (SIP) status\", \"csrutil status\"),\n",
    "    (\"Show information about macOS system-wide security and privacy settings\", \"sudo spctl --status\"),\n",
    "    (\"List all installed macOS user agents and daemons\", \"launchctl list\"),\n",
    "    (\"Display macOS system-wide proxy auto-discovery (PAC) URL\", \"networksetup -getautoproxyurl\"),\n",
    "    (\"Check macOS system's disk arbitration status\", \"diskutil arbstatus\"),\n",
    "    (\"Show detailed information about macOS system-wide hardware sensors\", \"sudo powermetrics --samplers smc | grep -i sensor\"),\n",
    "    (\"Check macOS system-wide proxy settings\", \"networksetup -getwebproxy Ethernet\"),\n",
    "    (\"Show macOS system information in a concise format\", \"system_profiler -detailLevel mini\"),\n",
    "    (\"List all macOS system services\", \"systemsetup -listallservices\"),\n",
    "    (\"Display macOS system-wide energy usage\", \"sudo powermetrics --samplers smc\"),\n",
    "    (\"Check macOS system display sleep settings\", \"pmset -g | grep displaysleep\"),\n",
    "    (\"Show detailed information about macOS system sensors\", \"ioreg -n IODisplayConnect\"),\n",
    "    (\"List all installed macOS command-line tools\", \"xcode-select -p\"),\n",
    "    (\"Check macOS system-wide VPN settings\", \"networksetup -listallnetworkservices\"),\n",
    "    (\"Display macOS system thermal conditions\", \"sudo powermetrics --samplers smc | grep -i temperature\"),\n",
    "    (\"List all macOS system startup items\", \"sudo launchctl list\"),\n",
    "    (\"Show information about macOS system boot volume\", \"bless --info /\"),\n",
    "    (\"Check macOS system's Bluetooth PAN (Personal Area Network) status\", \"networksetup -getBluetoothPAN\"),\n",
    "    (\"Display macOS system-wide power settings\", \"sudo pmset -g\"),\n",
    "    (\"List all installed macOS kernel modules\", \"kextstat -l\"),\n",
    "    (\"Show information about macOS system user and group IDs\", \"dscl . -list /Users UniqueID\"),\n",
    "    (\"Check macOS system-wide firewall logging status\", \"sudo /usr/libexec/ApplicationFirewall/socketfilterfw --getloggingmode\"),\n",
    "    (\"Display macOS system-wide energy usage information\", \"sudo powermetrics --samplers smc\"),\n",
    "    (\"List all macOS system keyboard layouts\", \"defaults read /Library/Preferences/com.apple.HIToolbox.plist AppleEnabledInputSources\"),\n",
    "    (\"Show detailed information about macOS system memory statistics\", \"vm_stat\"),\n",
    "    (\"Check macOS system's iCloud status\", \"defaults read MobileMeAccounts\"),\n",
    "    (\"List all macOS system software RAID configurations\", \"diskutil appleraid list\"),\n",
    "    (\"Display macOS system-wide energy efficiency settings\", \"sudo pmset -g assertions\"),\n",
    "    (\"Check macOS system's System Integrity Protection (SIP) status\", \"csrutil status\"),\n",
    "    (\"Show information about macOS system-wide security and privacy settings\", \"sudo spctl --status\"),\n",
    "    (\"List all installed macOS user agents and daemons\", \"launchctl list\"),\n",
    "    (\"Display macOS system-wide proxy auto-discovery (PAC) URL\", \"networksetup -getautoproxyurl\"),\n",
    "    (\"Check macOS system's disk arbitration status\", \"diskutil arbstatus\"),\n",
    "    (\"Show detailed information about macOS system-wide hardware sensors\", \"sudo powermetrics --samplers smc | grep -i sensor\"),\n",
    "    (\"Check macOS system-wide proxy settings\", \"networksetup -getwebproxy Ethernet\"),\n",
    "    (\"Show macOS system information in a concise format\", \"system_profiler -detailLevel mini\"),\n",
    "    (\"List all macOS system services\", \"systemsetup -listallservices\"),\n",
    "    (\"Display macOS system-wide energy usage\", \"sudo powermetrics --samplers smc\"),\n",
    "    (\"Check macOS system display sleep settings\", \"pmset -g | grep displaysleep\"),\n",
    "    (\"Show detailed information about macOS system sensors\", \"ioreg -n IODisplayConnect\"),\n",
    "    (\"List all installed macOS command-line tools\", \"xcode-select -p\"),\n",
    "    (\"Check macOS system-wide VPN settings\", \"networksetup -listallnetworkservices\"),\n",
    "    (\"Display macOS system thermal conditions\", \"sudo powermetrics --samplers smc | grep -i temperature\"),\n",
    "    (\"List all macOS system startup items\", \"sudo launchctl list\"),\n",
    "    (\"Show information about macOS system boot volume\", \"bless --info /\"),\n",
    "    (\"Check macOS system's Bluetooth PAN (Personal Area Network) status\", \"networksetup -getBluetoothPAN\")]"
   ]
  },
  {
   "cell_type": "code",
   "execution_count": 48,
   "metadata": {},
   "outputs": [],
   "source": [
    "from langchain_core.documents import Document\n",
    "\n",
    "def preprocess_dataset(dataset):\n",
    "    new_list = []\n",
    "    for i in dataset:\n",
    "        query = i[0]\n",
    "        command = i[1]\n",
    "        doc = Document(page_content=query, metadata={\"command\": command})\n",
    "        new_list.append(doc)\n",
    "    return new_list\n",
    "\n",
    "\n",
    "embeddings = HuggingFaceEmbeddings(model_name=EMBEDDER,\n",
    "                                       model_kwargs={'device': 'mps'})\n",
    "\n",
    "def generate_embeddings(new_list):\n",
    "    db = FAISS.from_documents(new_list, embeddings)\n",
    "    db.save_local(FAISS_PATH)"
   ]
  },
  {
   "cell_type": "code",
   "execution_count": 49,
   "metadata": {},
   "outputs": [],
   "source": [
    "preprocessed_list = preprocess_dataset(mac_dataset)\n"
   ]
  },
  {
   "cell_type": "code",
   "execution_count": 50,
   "metadata": {},
   "outputs": [
    {
     "name": "stdout",
     "output_type": "stream",
     "text": [
      "[Document(page_content='List all installed Homebrew packages', metadata={'command': 'brew list'}), Document(page_content='Show detailed information about the macOS version', metadata={'command': 'sw_vers'}), Document(page_content='Display information about disk space usage', metadata={'command': 'df -h'}), Document(page_content='Show top processes by CPU usage', metadata={'command': 'top -o cpu'}), Document(page_content='Check if port 443 on example.com is open using telnet', metadata={'command': 'echo | telnet example.com 443'}), Document(page_content='Check open ports on a host using nc', metadata={'command': 'nc -zv example.com 443'}), Document(page_content='List all installed applications', metadata={'command': 'ls /Applications'}), Document(page_content='Display information about system hardware', metadata={'command': 'system_profiler'}), Document(page_content='Show connected USB devices', metadata={'command': 'system_profiler SPUSBDataType'}), Document(page_content='Check the macOS firewall status', metadata={'command': 'sudo /usr/libexec/ApplicationFirewall/socketfilterfw --getglobalstate'}), Document(page_content='List all running processes', metadata={'command': 'ps aux'}), Document(page_content='Show information about network interfaces', metadata={'command': 'ifconfig'}), Document(page_content='Display detailed information about a file', metadata={'command': 'stat filename'}), Document(page_content='List available Wi-Fi networks', metadata={'command': '/System/Library/PrivateFrameworks/Apple80211.framework/Versions/A/Resources/airport -s'}), Document(page_content='Check the status of macOS Gatekeeper', metadata={'command': 'spctl --status'}), Document(page_content='List all user accounts', metadata={'command': 'dscl . -list /Users'}), Document(page_content='Show the current date and time', metadata={'command': 'date'}), Document(page_content='List all connected Bluetooth devices', metadata={'command': 'system_profiler SPBluetoothDataType'}), Document(page_content='Check DNS resolution for a domain', metadata={'command': 'nslookup example.com'}), Document(page_content='Display detailed information about a specific process', metadata={'command': 'ps -p <process_id> -o pid,ppid,command,%cpu,%mem'}), Document(page_content='List all active network connections', metadata={'command': 'netstat -an'}), Document(page_content='Display information about the macOS kernel', metadata={'command': 'uname -a'}), Document(page_content='Check system uptime', metadata={'command': 'uptime'}), Document(page_content='List all installed Python packages', metadata={'command': 'pip list'}), Document(page_content='Check available updates for installed software', metadata={'command': 'softwareupdate -l'}), Document(page_content='Show information about macOS disk partitions', metadata={'command': 'diskutil list'}), Document(page_content='Display information about the macOS audio devices', metadata={'command': 'system_profiler SPAudioDataType'}), Document(page_content='Check for available updates for macOS', metadata={'command': 'softwareupdate -l'}), Document(page_content='List all available shells on the system', metadata={'command': 'cat /etc/shells'}), Document(page_content='Show macOS system log', metadata={'command': 'log show'}), Document(page_content='Check kernel extensions', metadata={'command': 'kextstat'}), Document(page_content='Display information about the macOS file system', metadata={'command': 'diskutil info /'}), Document(page_content='List all connected FireWire devices', metadata={'command': 'system_profiler SPSerialATADataType'}), Document(page_content='Check for available updates for Ruby gems', metadata={'command': 'gem outdated'}), Document(page_content='Display detailed information about the macOS memory', metadata={'command': 'vm_stat'}), Document(page_content='List all installed Ruby gems', metadata={'command': 'gem list'}), Document(page_content='Show information about macOS system preferences', metadata={'command': 'sudo system_profiler SPConfigurationProfileDataType'}), Document(page_content='Check available disk space on a specific directory', metadata={'command': 'du -h /path/to/directory'}), Document(page_content='List all user groups', metadata={'command': 'dscl . -list /Groups'}), Document(page_content='Display macOS environment variables', metadata={'command': 'printenv'}), Document(page_content='Check macOS system integrity with SIP status', metadata={'command': 'csrutil status'}), Document(page_content='Show detailed information about system memory', metadata={'command': 'sysctl hw'}), Document(page_content='List all user accounts with User ID', metadata={'command': 'dscl . -list /Users UniqueID'}), Document(page_content='Display information about the macOS battery', metadata={'command': 'ioreg -rn AppleSmartBattery'}), Document(page_content='Check disk usage for a specific directory', metadata={'command': 'du -h /path/to/directory'}), Document(page_content='List all macOS system services', metadata={'command': 'launchctl list'}), Document(page_content='Display macOS system-wide energy impact', metadata={'command': 'sudo powermetrics --samplers smc'}), Document(page_content='List all connected Thunderbolt devices with detailed information', metadata={'command': 'system_profiler SPTechnologyDataType'}), Document(page_content='Display information about macOS system fonts', metadata={'command': 'fc-list : family'}), Document(page_content='Check macOS Bluetooth status', metadata={'command': 'system_profiler SPBluetoothDataType'}), Document(page_content='Show detailed information about macOS system audio', metadata={'command': 'system_profiler SPAudioDataType'}), Document(page_content='List all macOS user accounts with User ID', metadata={'command': 'dscl . -list /Users UniqueID'}), Document(page_content='Check macOS system firewall settings', metadata={'command': 'sudo defaults read /Library/Preferences/com.apple.alf globalstate'}), Document(page_content='Show information about macOS network interfaces using ifconfig', metadata={'command': 'ifconfig'}), Document(page_content='List all installed macOS Quick Look plugins', metadata={'command': 'qlmanage -m plugins'}), Document(page_content='Check macOS Time Machine backup status', metadata={'command': 'tmutil status'}), Document(page_content='Display information about macOS system hardware sensors', metadata={'command': 'ioreg -n IODisplayConnect'}), Document(page_content='List all available macOS screen resolutions', metadata={'command': 'system_profiler SPDisplaysDataType | grep Resolution'}), Document(page_content='Check macOS AirPlay status', metadata={'command': 'system_profiler SPDisplaysDataType'}), Document(page_content='Show information about macOS system input devices', metadata={'command': 'system_profiler SPUSBDataType'}), Document(page_content='List all macOS user accounts with home directory paths', metadata={'command': 'dscl . -readall /Users NFSHomeDirectory'}), Document(page_content='Display macOS kernel panic logs', metadata={'command': 'log show --predicate \\'eventMessage contains \"kernel panic\"\\' --info'}), Document(page_content=\"Check macOS system's NVRAM (Non-Volatile Random-Access Memory) settings\", metadata={'command': 'nvram -p'}), Document(page_content='Show detailed information about macOS system thermal conditions', metadata={'command': 'sudo powermetrics --samplers smc | grep -i temperature'}), Document(page_content='List all available macOS input methods', metadata={'command': 'defaults read /Library/Preferences/com.apple.HIToolbox.plist AppleInputSourceHistory | grep Name'}), Document(page_content='Check macOS FileVault encryption status for a specific disk', metadata={'command': 'fdesetup status -device /dev/diskX'}), Document(page_content='Show macOS system-wide crash reports', metadata={'command': 'ls -lR /Library/Logs/DiagnosticReports/'}), Document(page_content='List all available Ruby versions (if using rbenv)', metadata={'command': 'rbenv versions'}), Document(page_content='Show information about macOS firewall settings', metadata={'command': 'sudo defaults read /Library/Preferences/com.apple.alf globalstate'}), Document(page_content='List all installed Java Runtime Environments (JREs)', metadata={'command': '/usr/libexec/java_home -V'}), Document(page_content='Check macOS user environment variables', metadata={'command': 'launchctl getenv'}), Document(page_content='Show information about macOS XPC services', metadata={'command': 'launchctl list | grep XPC'}), Document(page_content='List all connected USB devices with detailed information', metadata={'command': 'system_profiler SPUSBDataType'}), Document(page_content='Check macOS system resource usage in real-time', metadata={'command': 'top -o cpu'}), Document(page_content='Display information about macOS system preferences profiles', metadata={'command': 'sudo profiles -P'}), Document(page_content='Show detailed information about macOS I/O Kit registry', metadata={'command': 'ioreg -l'}), Document(page_content='Check macOS FileVault encryption status', metadata={'command': 'fdesetup status'}), Document(page_content='List all installed macOS Quick Look generators', metadata={'command': 'qlmanage -m generators'}), Document(page_content='Display detailed information about macOS Bluetooth devices', metadata={'command': 'system_profiler SPBluetoothDataType'}), Document(page_content='Check macOS AirDrop status', metadata={'command': 'defaults read /Library/Preferences/com.apple.sharing.advertise'}), Document(page_content='Show information about macOS battery cycles', metadata={'command': \"ioreg -r -c 'AppleSmartBattery' | grep -i cycle\"}), Document(page_content='List all installed macOS kernel extensions', metadata={'command': 'kextstat -l'}), Document(page_content='Check macOS disk arbitration status', metadata={'command': 'diskutil arbstatus'}), Document(page_content='Show information about macOS SIP (System Integrity Protection)', metadata={'command': 'csrutil status'}), Document(page_content='List all macOS system services', metadata={'command': 'systemsetup -listallservices'}), Document(page_content='Display macOS system-wide energy usage', metadata={'command': 'sudo powermetrics --samplers smc'}), Document(page_content='Check macOS system display sleep settings', metadata={'command': 'pmset -g | grep displaysleep'}), Document(page_content='Show detailed information about macOS system sensors', metadata={'command': 'ioreg -n IODisplayConnect'}), Document(page_content='Check macOS system-wide VPN settings', metadata={'command': 'networksetup -listallnetworkservices'}), Document(page_content='Display macOS system thermal conditions', metadata={'command': 'sudo powermetrics --samplers smc | grep -i temperature'}), Document(page_content='List all macOS system startup items', metadata={'command': 'sudo launchctl list'}), Document(page_content='Show information about macOS system boot volume', metadata={'command': 'bless --info /'}), Document(page_content=\"Check macOS system's Bluetooth PAN (Personal Area Network) status\", metadata={'command': 'networksetup -getBluetoothPAN'}), Document(page_content='Display macOS system-wide power settings', metadata={'command': 'sudo pmset -g'}), Document(page_content='List all installed macOS kernel modules', metadata={'command': 'kextstat -l'}), Document(page_content='Show information about macOS system user and group IDs', metadata={'command': 'dscl . -list /Users UniqueID'}), Document(page_content='Check macOS system-wide firewall logging status', metadata={'command': 'sudo /usr/libexec/ApplicationFirewall/socketfilterfw --getloggingmode'}), Document(page_content='Display macOS system-wide energy usage information', metadata={'command': 'sudo powermetrics --samplers smc'}), Document(page_content='List all macOS system keyboard layouts', metadata={'command': 'defaults read /Library/Preferences/com.apple.HIToolbox.plist AppleEnabledInputSources'}), Document(page_content='Show detailed information about macOS system memory statistics', metadata={'command': 'vm_stat'}), Document(page_content=\"Check macOS system's iCloud status\", metadata={'command': 'defaults read MobileMeAccounts'}), Document(page_content='List all macOS system software RAID configurations', metadata={'command': 'diskutil appleraid list'}), Document(page_content='Display macOS system-wide energy efficiency settings', metadata={'command': 'sudo pmset -g assertions'}), Document(page_content=\"Check macOS system's System Integrity Protection (SIP) status\", metadata={'command': 'csrutil status'}), Document(page_content='Show information about macOS system-wide security and privacy settings', metadata={'command': 'sudo spctl --status'}), Document(page_content='List all installed macOS user agents and daemons', metadata={'command': 'launchctl list'}), Document(page_content='Display macOS system-wide proxy auto-discovery (PAC) URL', metadata={'command': 'networksetup -getautoproxyurl'}), Document(page_content=\"Check macOS system's disk arbitration status\", metadata={'command': 'diskutil arbstatus'}), Document(page_content='Show detailed information about macOS system-wide hardware sensors', metadata={'command': 'sudo powermetrics --samplers smc | grep -i sensor'}), Document(page_content='Check macOS system-wide proxy settings', metadata={'command': 'networksetup -getwebproxy Ethernet'}), Document(page_content='Show macOS system information in a concise format', metadata={'command': 'system_profiler -detailLevel mini'}), Document(page_content='List all macOS system services', metadata={'command': 'systemsetup -listallservices'}), Document(page_content='Display macOS system-wide energy usage', metadata={'command': 'sudo powermetrics --samplers smc'}), Document(page_content='Check macOS system display sleep settings', metadata={'command': 'pmset -g | grep displaysleep'}), Document(page_content='Show detailed information about macOS system sensors', metadata={'command': 'ioreg -n IODisplayConnect'}), Document(page_content='List all installed macOS command-line tools', metadata={'command': 'xcode-select -p'}), Document(page_content='Check macOS system-wide VPN settings', metadata={'command': 'networksetup -listallnetworkservices'}), Document(page_content='Display macOS system thermal conditions', metadata={'command': 'sudo powermetrics --samplers smc | grep -i temperature'}), Document(page_content='List all macOS system startup items', metadata={'command': 'sudo launchctl list'}), Document(page_content='Show information about macOS system boot volume', metadata={'command': 'bless --info /'}), Document(page_content=\"Check macOS system's Bluetooth PAN (Personal Area Network) status\", metadata={'command': 'networksetup -getBluetoothPAN'}), Document(page_content='Display macOS system-wide power settings', metadata={'command': 'sudo pmset -g'}), Document(page_content='List all installed macOS kernel modules', metadata={'command': 'kextstat -l'}), Document(page_content='Show information about macOS system user and group IDs', metadata={'command': 'dscl . -list /Users UniqueID'}), Document(page_content='Check macOS system-wide firewall logging status', metadata={'command': 'sudo /usr/libexec/ApplicationFirewall/socketfilterfw --getloggingmode'}), Document(page_content='Display macOS system-wide energy usage information', metadata={'command': 'sudo powermetrics --samplers smc'}), Document(page_content='List all macOS system keyboard layouts', metadata={'command': 'defaults read /Library/Preferences/com.apple.HIToolbox.plist AppleEnabledInputSources'}), Document(page_content='Show detailed information about macOS system memory statistics', metadata={'command': 'vm_stat'}), Document(page_content=\"Check macOS system's iCloud status\", metadata={'command': 'defaults read MobileMeAccounts'}), Document(page_content='List all macOS system software RAID configurations', metadata={'command': 'diskutil appleraid list'}), Document(page_content='Display macOS system-wide energy efficiency settings', metadata={'command': 'sudo pmset -g assertions'}), Document(page_content=\"Check macOS system's System Integrity Protection (SIP) status\", metadata={'command': 'csrutil status'}), Document(page_content='Show information about macOS system-wide security and privacy settings', metadata={'command': 'sudo spctl --status'}), Document(page_content='List all installed macOS user agents and daemons', metadata={'command': 'launchctl list'}), Document(page_content='Display macOS system-wide proxy auto-discovery (PAC) URL', metadata={'command': 'networksetup -getautoproxyurl'}), Document(page_content=\"Check macOS system's disk arbitration status\", metadata={'command': 'diskutil arbstatus'}), Document(page_content='Show detailed information about macOS system-wide hardware sensors', metadata={'command': 'sudo powermetrics --samplers smc | grep -i sensor'}), Document(page_content='Check macOS system-wide proxy settings', metadata={'command': 'networksetup -getwebproxy Ethernet'}), Document(page_content='Show macOS system information in a concise format', metadata={'command': 'system_profiler -detailLevel mini'}), Document(page_content='List all macOS system services', metadata={'command': 'systemsetup -listallservices'}), Document(page_content='Display macOS system-wide energy usage', metadata={'command': 'sudo powermetrics --samplers smc'}), Document(page_content='Check macOS system display sleep settings', metadata={'command': 'pmset -g | grep displaysleep'}), Document(page_content='Show detailed information about macOS system sensors', metadata={'command': 'ioreg -n IODisplayConnect'}), Document(page_content='List all installed macOS command-line tools', metadata={'command': 'xcode-select -p'}), Document(page_content='Check macOS system-wide VPN settings', metadata={'command': 'networksetup -listallnetworkservices'}), Document(page_content='Display macOS system thermal conditions', metadata={'command': 'sudo powermetrics --samplers smc | grep -i temperature'}), Document(page_content='List all macOS system startup items', metadata={'command': 'sudo launchctl list'}), Document(page_content='Show information about macOS system boot volume', metadata={'command': 'bless --info /'}), Document(page_content=\"Check macOS system's Bluetooth PAN (Personal Area Network) status\", metadata={'command': 'networksetup -getBluetoothPAN'})]\n"
     ]
    }
   ],
   "source": [
    "print(preprocessed_list)"
   ]
  },
  {
   "cell_type": "code",
   "execution_count": 51,
   "metadata": {},
   "outputs": [],
   "source": [
    "generate_embeddings(preprocessed_list)"
   ]
  },
  {
   "cell_type": "code",
   "execution_count": 52,
   "metadata": {},
   "outputs": [],
   "source": [
    "faiss_vectorstore = FAISS.load_local(FAISS_PATH, embeddings)\n",
    "faiss_retriever = faiss_vectorstore.as_retriever(search_kwargs=SEARCH_KWARGS)"
   ]
  },
  {
   "cell_type": "code",
   "execution_count": null,
   "metadata": {},
   "outputs": [],
   "source": [
    "# bm25_retriever = BM25Retriever.from_documents(texts)\n",
    "# ensemble_retriever = EnsembleRetriever(retrievers=[faiss_retriever, bm25_retriever], weights=[0.8, 0.2])\n",
    "# print(\"Vector Store Creation Completed\")"
   ]
  },
  {
   "cell_type": "code",
   "execution_count": 62,
   "metadata": {},
   "outputs": [
    {
     "name": "stdout",
     "output_type": "stream",
     "text": [
      "Retrieved docs: [Document(page_content='Display information about disk space usage', metadata={'command': 'df -h'}), Document(page_content='Check available disk space on a specific directory', metadata={'command': 'du -h /path/to/directory'}), Document(page_content='Check disk usage for a specific directory', metadata={'command': 'du -h /path/to/directory'})]\n",
      "page_content='Display information about disk space usage' metadata={'command': 'df -h'}\n"
     ]
    }
   ],
   "source": [
    "query = \"How much disk space does my computer have?\"\n",
    "docs = faiss_retriever.get_relevant_documents(query)\n",
    "print('Retrieved docs:', docs)\n",
    "\n",
    "print(docs[0])"
   ]
  },
  {
   "cell_type": "code",
   "execution_count": null,
   "metadata": {},
   "outputs": [],
   "source": []
  }
 ],
 "metadata": {
  "kernelspec": {
   "display_name": "llm",
   "language": "python",
   "name": "python3"
  },
  "language_info": {
   "codemirror_mode": {
    "name": "ipython",
    "version": 3
   },
   "file_extension": ".py",
   "mimetype": "text/x-python",
   "name": "python",
   "nbconvert_exporter": "python",
   "pygments_lexer": "ipython3",
   "version": "3.9.18"
  }
 },
 "nbformat": 4,
 "nbformat_minor": 2
}
